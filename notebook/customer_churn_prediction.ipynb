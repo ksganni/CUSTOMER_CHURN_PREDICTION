{
 "cells": [
  {
   "cell_type": "markdown",
   "id": "4af7a8eb",
   "metadata": {},
   "source": [
    "**TELCO CUSTOMER CHURN PREDICTION**\n",
    "\n",
    "THIS NOTEBOOK PERFORMS:\n",
    "- DATASET EXPLORATION\n",
    "- FEATURE ENGINEERING\n",
    "- DATA CLEANING\n",
    "- PCA, SHAP VISUALIZATIONS"
   ]
  },
  {
   "cell_type": "code",
   "execution_count": null,
   "id": "a4ea654b",
   "metadata": {
    "vscode": {
     "languageId": "plaintext"
    }
   },
   "outputs": [],
   "source": [
    "#Importing the Libraries\n",
    "\n",
    "import pandas as pd \n",
    "import matplotlib.pyplot as plt \n",
    "import seaborn as sns\n",
    "\n",
    "#Loading the Dataset\n",
    "\n",
    "df=pd.read_csv('../data/WA_Fn-UseC_-Telco-Customer-Churn.csv')\n",
    "df.head()\n",
    "\n",
    "df.info()\n",
    "df.describe()\n",
    "df['Churn'].value_counts(normalize=True)\n",
    "\n",
    "# Visualizing the churn distribution\n",
    "\n",
    "sns.countplot(x='Churn',data=df)\n",
    "plt.title(\"Churn Distribution\")"
   ]
  }
 ],
 "metadata": {
  "language_info": {
   "name": "python"
  }
 },
 "nbformat": 4,
 "nbformat_minor": 5
}
